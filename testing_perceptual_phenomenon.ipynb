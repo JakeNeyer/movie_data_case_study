{
 "cells": [
  {
   "cell_type": "markdown",
   "metadata": {},
   "source": [
    "# Testing a Perceptual Phenomenon\n",
    "### An in-depth statistical analysis of the Stroop Effect\n",
    "\n",
    "## Variables\n",
    "\n",
    "1.) In this circumstance the independent variable is the color of ink shown to the individual as it relates to the word, i.e. congruency or incongruency. And therefore, the dependent variable is the amount of time it takes the individual to name said ink color\n",
    "\n",
    "## Hypotheses\n",
    "\n",
    "2.) My hypotheses are as follows:\n",
    "\n",
    "My null hypothesis is that the population mean of the congruent data set and the incongruent data set will have no significant difference. My alternative hypothesis is that the population mean of the congruent data set will be different than that of the incongruent data set.\n",
    "\n",
    "\n",
    "$ H_{0}: \\mu_{congruent} - \\mu_{incongruent} = 0 \\\\\n",
    "H_{A}: \\mu_{congruent} - \\mu_{incongruent} ≠ 0 $\n",
    "\n",
    "\n",
    "For this situation, I will conduct a paired t-test. The reason for this is that we only have a sample of the actual population of all human beings, but two results are being measured from each individual. There are no pre/post test conditions, there is not more than one sample to test, and the sample should be representative of the population at large, assuming it is random. For these reasons, and the fact we are comparing two sets of results from the same individuals, the paired t-test is the best solution.\n"
   ]
  },
  {
   "cell_type": "markdown",
   "metadata": {},
   "source": [
    "## Descriptive Statistics\n"
   ]
  },
  {
   "cell_type": "code",
   "execution_count": 1,
   "metadata": {
    "collapsed": true
   },
   "outputs": [],
   "source": [
    "congruent = [12.079,16.791,9.564,8.63,14.669,12.238,14.692,\n",
    "             8.987,9.401,14.48,22.328,15.298,15.073,16.929,\n",
    "             18.2,12.13,18.495,10.639,11.344,12.369,12.944,\n",
    "             14.233,19.71,16.004]\n",
    "\n",
    "incongruent = [19.278,18.741,21.214,15.687,22.803,\n",
    "               20.878,24.572,17.394,20.762,26.282,\n",
    "               24.524,18.644,17.51,20.33,35.255,22.158,\n",
    "               25.139,20.429,17.425,34.288,23.894,17.96,\n",
    "               22.058,21.157,]"
   ]
  },
  {
   "cell_type": "code",
   "execution_count": 2,
   "metadata": {
    "collapsed": false
   },
   "outputs": [
    {
     "name": "stdout",
     "output_type": "stream",
     "text": [
      "Congruent Mean Time: 14.051125\n",
      "Congruent Standard Deviation: 3.55935795765\n",
      "Incongruent Mean Time: 22.0159166667\n",
      "Incongruent Standard Deviation: 4.79705712247\n"
     ]
    }
   ],
   "source": [
    "import numpy as np\n",
    "\n",
    "\n",
    "print \"Congruent Mean Time: \" + str(np.mean(congruent))\n",
    "#Notice that ddof is set to 1 to account for Bessel's correction as this is a sample not a population standard devitation\n",
    "print \"Congruent Standard Deviation: \" + str(np.std(congruent, ddof = 1))\n",
    "print \"Incongruent Mean Time: \" + str(np.mean(incongruent))\n",
    "print \"Incongruent Standard Deviation: \"+ str(np.std(incongruent, ddof = 1))\n",
    "\n"
   ]
  },
  {
   "cell_type": "markdown",
   "metadata": {},
   "source": [
    "3.)\tThis dataset shows that the mean time to identify colors with congruent words is **14.051125** with a standard deviation of **3.55935795765**. Additionally, the mean time to identify colors with incongruent words is **22.0159166667** with a standard deviation of **4.79705712247**.\n"
   ]
  },
  {
   "cell_type": "markdown",
   "metadata": {},
   "source": [
    "## Visualizations"
   ]
  },
  {
   "cell_type": "code",
   "execution_count": 3,
   "metadata": {
    "collapsed": false
   },
   "outputs": [
    {
     "data": {
      "text/plain": [
       "<matplotlib.text.Text at 0x10a7b6290>"
      ]
     },
     "execution_count": 3,
     "metadata": {},
     "output_type": "execute_result"
    },
    {
     "data": {
      "image/png": "[encoded data removed]",
      "text/plain": [
       "<matplotlib.figure.Figure at 0x103e57a90>"
      ]
     },
     "metadata": {},
     "output_type": "display_data"
    }
   ],
   "source": [
    "%matplotlib  inline\n",
    "import matplotlib.pyplot as plt\n",
    "\n",
    "plt.hist(congruent)\n",
    "plt.title(\"Congruent Histogram\")\n",
    "plt.xlabel(\"Time\")\n",
    "plt.ylabel(\"Frequency\")\n"
   ]
  },
  {
   "cell_type": "code",
   "execution_count": 4,
   "metadata": {
    "collapsed": false
   },
   "outputs": [
    {
     "data": {
      "text/plain": [
       "<matplotlib.text.Text at 0x10a7b6e50>"
      ]
     },
     "execution_count": 4,
     "metadata": {},
     "output_type": "execute_result"
    },
    {
     "data": {
      "image/png": "[encoded data removed]",
      "text/plain": [
       "<matplotlib.figure.Figure at 0x10cd2e390>"
      ]
     },
     "metadata": {},
     "output_type": "display_data"
    }
   ],
   "source": [
    "plt.hist(incongruent)\n",
    "plt.title(\"Incongruent Histogram\")\n",
    "plt.xlabel(\"Time\")\n",
    "plt.ylabel(\"Frequency\")\n"
   ]
  },
  {
   "cell_type": "markdown",
   "metadata": {},
   "source": [
    "4.) Above are the two histograms of times taken to identify congruen and incongruent words. As detailed by the visulization, you can see that the congruent times make a more normalized distrobution, while the incongruent times are more variable. There seems to be some interesting times in the incongruent data set that are much larger than the rest of the data. "
   ]
  },
  {
   "cell_type": "markdown",
   "metadata": {},
   "source": [
    "## Performing the Test"
   ]
  },
  {
   "cell_type": "code",
   "execution_count": 20,
   "metadata": {
    "collapsed": false
   },
   "outputs": [
    {
     "name": "stdout",
     "output_type": "stream",
     "text": [
      "The mean of the differences is -7.96479166667\n",
      "The standard deviation of the differences is 4.86482691036\n",
      "The T-Statistic is -8.02070694411\n"
     ]
    }
   ],
   "source": [
    "import math\n",
    "\n",
    "#Subtracting incongruent from congruent data to get the diffeneces from each\n",
    "diff = [i - j for i, j in zip(congruent, incongruent)]\n",
    "\n",
    "#Calculating the mean differences\n",
    "diff_mean = np.mean(congruent) - np.mean(incongruent)\n",
    "\n",
    "#Calculating standard deviation of differences\n",
    "#Squaring the differences\n",
    "diff_squared_deviation_mean = []\n",
    "for i in diff:\n",
    "    diff_squared_deviation_mean.append((i - diff_mean) ** 2)\n",
    "\n",
    "#Adding squared deviation differences\n",
    "sum_diff_squared_deviation_mean = 0\n",
    "for i in diff_squared_deviation_mean:\n",
    "    sum_diff_squared_deviation_mean += i\n",
    "\n",
    "#Dividing sum_diff_squared_deviation_mean by n - 1\n",
    "variance = sum_diff_squared_deviation_mean / (len(diff) - 1)\n",
    "\n",
    "#Taking square root of variance    \n",
    "diff_stdv = math.sqrt(variance)\n",
    "\n",
    "#Calculating T-Statistic\n",
    "t_stat = diff_mean / (diff_stdv / math.sqrt((len(diff))))\n",
    "\n",
    "print \"The mean of the differences is \" + str(diff_mean)\n",
    "print \"The standard deviation of the differences is \" + str(diff_stdv)\n",
    "print \"The T-Statistic is \" + str(t_stat)"
   ]
  },
  {
   "cell_type": "markdown",
   "metadata": {},
   "source": [
    "## Evaluating the Results\n",
    "5.) With a significance level of $\\alpha = .05$ and $23 DOF$, we get a t-critical of $\\pm 2.06865761$. Therefore, our t-statistic obtained by the calculations above($ -8.02070694411 $) gives us evidence to reject our null hypothesis $ H_{0}: \\mu_{congruent} - \\mu_{incongruent} = 0 $.\n"
   ]
  },
  {
   "cell_type": "markdown",
   "metadata": {},
   "source": [
    "## Conclusion\n",
    "\n",
    "In conclusion, there is significant difference between the congruent and incongruent words. With the data at hand, we see that the incongruent words take exceedingly more time to identify than the congruent words. This was what I had expected, especially after taking the test myself I proposed that the incongruent words would take much longer."
   ]
  },
  {
   "cell_type": "markdown",
   "metadata": {},
   "source": [
    "Sources:\n",
    "\n",
    "https://classroom.udacity.com/\n",
    "https://stackoverflow.com/questions/534855/subtracting-2-lists-in-python"
   ]
  }
 ],
 "metadata": {
  "anaconda-cloud": {},
  "kernelspec": {
   "display_name": "Python [conda env:DAND]",
   "language": "python",
   "name": "conda-env-DAND-py"
  },
  "language_info": {
   "codemirror_mode": {
    "name": "ipython",
    "version": 2
   },
   "file_extension": ".py",
   "mimetype": "text/x-python",
   "name": "python",
   "nbconvert_exporter": "python",
   "pygments_lexer": "ipython2",
   "version": "2.7.12"
  }
 },
 "nbformat": 4,
 "nbformat_minor": 2
}
